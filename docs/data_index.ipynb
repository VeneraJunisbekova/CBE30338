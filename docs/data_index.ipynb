{
 "cells": [
  {
   "cell_type": "markdown",
   "id": "9dfb2f22",
   "metadata": {},
   "source": [
    "# [CBE30338](https://jckantor.github.io/CBE30338)\n",
    "\n",
    "## Index of Data files in this Repository"
   ]
  }
 ],
 "metadata": {},
 "nbformat": 4,
 "nbformat_minor": 5
}
