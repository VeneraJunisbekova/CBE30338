{
 "cells": [
  {
   "cell_type": "markdown",
   "id": "6962dd15",
   "metadata": {},
   "source": [
    "<!--NOTEBOOK_HEADER-->\n",
    "*This notebook contains material from [CBE30338](https://jckantor.github.io/CBE30338);\n",
    "content is available [on Github](https://github.com/jckantor/CBE30338.git).*\n"
   ]
  },
  {
   "cell_type": "markdown",
   "id": "f7232642",
   "metadata": {},
   "source": [
    "<!--NAVIGATION-->\n",
    "< [1.4 Python Numeric Integration Revisited](https://jckantor.github.io/CBE30338/01.04-Python-Numeric-Integration-Revisited.html) | [Contents](toc.html) | [Tag Index](tag_index.html) | [2.1 Process Variables](https://jckantor.github.io/CBE30338/02.01-Process-Variables.html) ><p><a href=\"https://colab.research.google.com/github/jckantor/CBE30338/blob/master/docs/02.00-Process-Modeling.ipynb\"> <img align=\"left\" src=\"https://colab.research.google.com/assets/colab-badge.svg\" alt=\"Open in Colab\" title=\"Open in Google Colaboratory\"></a><p><a href=\"https://jckantor.github.io/CBE30338/02.00-Process-Modeling.ipynb\"> <img align=\"left\" src=\"https://img.shields.io/badge/Github-Download-blue.svg\" alt=\"Download\" title=\"Download Notebook\"></a>"
   ]
  },
  {
   "cell_type": "markdown",
   "metadata": {
    "nbpages": {
     "level": 1,
     "link": "[2.0 Process Modeling](https://jckantor.github.io/CBE30338/02.00-Process-Modeling.html#2.0-Process-Modeling)",
     "section": "2.0 Process Modeling"
    }
   },
   "source": [
    "# 2.0 Process Modeling"
   ]
  },
  {
   "cell_type": "code",
   "execution_count": null,
   "metadata": {
    "nbpages": {
     "level": 1,
     "link": "[2.0 Process Modeling](https://jckantor.github.io/CBE30338/02.00-Process-Modeling.html#2.0-Process-Modeling)",
     "section": "2.0 Process Modeling"
    }
   },
   "outputs": [],
   "source": []
  },
  {
   "cell_type": "markdown",
   "id": "014fa018",
   "metadata": {},
   "source": [
    "<!--NAVIGATION-->\n",
    "< [1.4 Python Numeric Integration Revisited](https://jckantor.github.io/CBE30338/01.04-Python-Numeric-Integration-Revisited.html) | [Contents](toc.html) | [Tag Index](tag_index.html) | [2.1 Process Variables](https://jckantor.github.io/CBE30338/02.01-Process-Variables.html) ><p><a href=\"https://colab.research.google.com/github/jckantor/CBE30338/blob/master/docs/02.00-Process-Modeling.ipynb\"> <img align=\"left\" src=\"https://colab.research.google.com/assets/colab-badge.svg\" alt=\"Open in Colab\" title=\"Open in Google Colaboratory\"></a><p><a href=\"https://jckantor.github.io/CBE30338/02.00-Process-Modeling.ipynb\"> <img align=\"left\" src=\"https://img.shields.io/badge/Github-Download-blue.svg\" alt=\"Download\" title=\"Download Notebook\"></a>"
   ]
  }
 ],
 "metadata": {
  "kernelspec": {
   "display_name": "Python 3 (ipykernel)",
   "language": "python",
   "name": "python3"
  },
  "language_info": {
   "codemirror_mode": {
    "name": "ipython",
    "version": 3
   },
   "file_extension": ".py",
   "mimetype": "text/x-python",
   "name": "python",
   "nbconvert_exporter": "python",
   "pygments_lexer": "ipython3",
   "version": "3.8.12"
  }
 },
 "nbformat": 4,
 "nbformat_minor": 4
}
